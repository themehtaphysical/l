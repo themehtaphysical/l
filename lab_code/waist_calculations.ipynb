{
 "cells": [
  {
   "cell_type": "code",
   "execution_count": 1,
   "metadata": {},
   "outputs": [],
   "source": [
    "import numpy as np\n",
    "import math\n",
    "from scipy.optimize import *\n",
    "import matplotlib.pyplot as plt\n",
    "import scipy"
   ]
  },
  {
   "cell_type": "code",
   "execution_count": 53,
   "metadata": {},
   "outputs": [
    {
     "name": "stdout",
     "output_type": "stream",
     "text": [
      "[[-1.42500000e+00  3.63875000e+01]\n",
      " [-2.50000000e-03 -6.37916667e-01]]\n",
      "[1.09980377e+01 1.08951063e-01 3.08404989e-03]\n",
      "qin of laser is:\n",
      "47.20510331906346j\n",
      "qout of telescope is:\n",
      "(-36.29146593535718+112.1621866398889j)\n",
      "waist, radius out of telescope is:\n",
      "[0.04996557385079408, -382.93924627714773]\n",
      "min waist out of telescope is:\n",
      "0.047539012087521676\n"
     ]
    },
    {
     "data": {
      "image/png": "[encoded data removed]",
      "text/plain": [
       "<Figure size 640x480 with 1 Axes>"
      ]
     },
     "metadata": {},
     "output_type": "display_data"
    }
   ],
   "source": [
    "#in centimeters\n",
    "wavelength = 633*(10**-7)\n",
    "\n",
    "# Use this function to curvefit for power as a function of x to calculate w(z)\n",
    "# IMPORTANT remmeber power is proportional to voltage measured on the oscilloscope\n",
    "def power_as_func_of_x(x, amp, x0, waist):\n",
    "    return (amp/2)*(1 + scipy.special.erf(np.sqrt(2)*(x-x0)/waist))\n",
    "\n",
    "# Use this function to curvefit for waist as a function of z to calculate w0\n",
    "# IMPORTANT, the parameters are in cm\n",
    "def waist_as_func_of_z(z, w0, z0, b):\n",
    "    return w0*np.sqrt(1+(((z-z0)**2)/(b**2)))\n",
    "\n",
    "#alternate in terms of b\n",
    "def waist_as_func_of_z_alt(z, z0, b):\n",
    "    return b*np.sqrt(1+(((z-z0)**2)/(b**2)))/(np.pi) * wavelength\n",
    "\n",
    "#calculate q for R and w\n",
    "def calculate_q(radius_of_curvature,waist):\n",
    "    return 1/(1/radius_of_curvature - 1j*wavelength/(np.pi*waist*waist))\n",
    "\n",
    "#calculate R and w from q\n",
    "def calculate_waist_radius_from_q(q_parameter):\n",
    "    if(np.real(q_parameter) == 0):\n",
    "        return [np.sqrt(-1*wavelength/(np.pi*np.imag(1/q_parameter) )),99999999999]\n",
    "    else:\n",
    "        return [np.sqrt(-1*wavelength/(np.pi*np.imag(1/q_parameter) )),1/np.real(1/q_parameter)]\n",
    "# returns output q for input q and abcd\n",
    "def calculate_q_out(qin, abcd):\n",
    "    return (abcd[0][0]*qin + abcd[0][1])/(abcd[1][0]*qin + abcd[1][1])\n",
    "\n",
    "#calculate q from w, R is infiniy\n",
    "def calculate_q_from_waist(waist):\n",
    "    return 1j*np.pi*waist*waist/wavelength\n",
    "\n",
    "\n",
    "\n",
    "\n",
    "# ABCD parameters \n",
    "#length in cm\n",
    "def abcd_free_space(length):\n",
    "    return [1,length],[0,1]\n",
    "\n",
    "#focal length in cm\n",
    "def abcd_lens(focal_length):\n",
    "    return ([1,0],[(-1/focal_length),1])\n",
    "\n",
    "#f and length in cm\n",
    "def abcd_telescope(f_eye, f_obj, length):\n",
    "    #print(abcd_lens(f_eye)@ abcd_free_space(length)@ abcd_lens(f_obj))\n",
    "    array =  ((np.array(abcd_lens(f_eye))@ np.array(abcd_free_space(length)) @np.array(abcd_lens(f_obj))))\n",
    "    #print(array)\n",
    "    return array.tolist()\n",
    "\n",
    "#print(np.array(abcd_free_space(30))@np.array(abcd_free_space(10)))\n",
    "#print(abcd_telescope(30,20,48.5))\n",
    "abcd_total = np.array(abcd_telescope(30,20,48.5))@np.array(abcd_free_space(8.5))\n",
    "print(abcd_total)\n",
    "\n",
    "#print(abcd_total)\n",
    "\n",
    "\n",
    "\n",
    "# curve fitting\n",
    "\n",
    "x_val = [0.1, 0.104, 0.108, 0.112, 0.116]\n",
    "volt_val = [0.630, 1.233, 2.938, 10.784, 10.953]\n",
    "\n",
    "\n",
    "\n",
    "guess_power_x = []  #[amp, x0, waist]; x0 is the centre of beam\n",
    "\n",
    "####### UNCOMMENT  #######\n",
    "plt.plot(x_val,volt_val)\n",
    "popt0,pcov0 = curve_fit(power_as_func_of_x,x_val,volt_val)\n",
    "\n",
    "#print(popt0)\n",
    "dummy_x = np.arange(0.1,0.12,0.001)\n",
    "plt.plot(dummy_x,power_as_func_of_x(dummy_x,*popt0))\n",
    "\n",
    "\n",
    "print(popt0)\n",
    "\n",
    "z_val = []\n",
    "waist_val = []\n",
    "\n",
    "guess_waist_as_func_of_z = []   # [w0 , z0, b] in cm\n",
    "\n",
    "#plt.plot(z_val,waist_val)\n",
    "#popt1,pcov1 = curve_fit(waist_as_func_of_z,z_val,waist_val,guess_waist_as_func_of_z)\n",
    "#plt.plot(z_val,waist_as_func_of_z(z_val,*popt1))\n",
    "\n",
    "\n",
    "qin = calculate_q_from_waist(0.0308404989)\n",
    "print(\"qin of laser is:\")\n",
    "print(qin)\n",
    "\n",
    "qout_telescope = calculate_q_out(qin,abcd_total)\n",
    "\n",
    "\n",
    "print(\"qout of telescope is:\")\n",
    "print(qout_telescope)\n",
    "\n",
    "waist_telecope = calculate_waist_radius_from_q(qout_telescope)\n",
    "\n",
    "print(\"waist, radius out of telescope is:\")\n",
    "print(waist_telecope)\n",
    "\n",
    "waist_min = calculate_waist_radius_from_q(112.1621866398889j)[0]\n",
    "print(\"min waist out of telescope is:\")\n",
    "print(waist_min)\n"
   ]
  },
  {
   "cell_type": "code",
   "execution_count": null,
   "metadata": {},
   "outputs": [],
   "source": []
  }
 ],
 "metadata": {
  "kernelspec": {
   "display_name": "Python 3.9.13 ('base')",
   "language": "python",
   "name": "python3"
  },
  "language_info": {
   "codemirror_mode": {
    "name": "ipython",
    "version": 3
   },
   "file_extension": ".py",
   "mimetype": "text/x-python",
   "name": "python",
   "nbconvert_exporter": "python",
   "pygments_lexer": "ipython3",
   "version": "3.9.13"
  },
  "orig_nbformat": 4,
  "vscode": {
   "interpreter": {
    "hash": "358a77507ec11ddb660ac1d8d3eb0035d960f272c3eb24b4f5810b389e19700a"
   }
  }
 },
 "nbformat": 4,
 "nbformat_minor": 2
}
