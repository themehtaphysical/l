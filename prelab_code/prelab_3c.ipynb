{
 "cells": [
  {
   "cell_type": "markdown",
   "metadata": {},
   "source": [
    "# Lab 3(c)"
   ]
  },
  {
   "cell_type": "code",
   "execution_count": 1,
   "metadata": {},
   "outputs": [],
   "source": [
    "import numpy as np\n",
    "import math\n",
    "import matplotlib.pyplot as plt\n",
    "from qutip import *\n",
    "import random"
   ]
  },
  {
   "cell_type": "markdown",
   "metadata": {},
   "source": [
    "#  <font color=ea7e7e>The Particle Nature of Light </font>"
   ]
  },
  {
   "cell_type": "markdown",
   "metadata": {},
   "source": [
    "## 3."
   ]
  },
  {
   "cell_type": "code",
   "execution_count": 2,
   "metadata": {},
   "outputs": [],
   "source": [
    "''' \n",
    "a function that returns a list of poisson distribution for a given flux and integration time window\n",
    "'''\n",
    "\n",
    "def beam_of_photons(flux, integration_time_window):\n",
    "    return np.random.poisson(integration_time_window*flux, np.int64(np.ceil(1/integration_time_window))).tolist()"
   ]
  },
  {
   "cell_type": "code",
   "execution_count": 3,
   "metadata": {},
   "outputs": [
    {
     "name": "stdout",
     "output_type": "stream",
     "text": [
      "\n",
      "\n",
      "-----------------\n",
      "        3a        \n",
      "-----------------\n",
      " \n",
      "10091\n"
     ]
    }
   ],
   "source": [
    "'''''''''''''''''''''''''''''''''''''''''''''''''''''''''''''''''''''''''''''''''''\n",
    "                                        test \n",
    "'''''''''''''''''''''''''''''''''''''''''''''''''''''''''''''''''''''''''''''''''''\n",
    "\n",
    "\n",
    "'''''''''''''''''''''''''''''''''''''''\n",
    "                3.\n",
    "'''''''''''''''''''''''''''''''''''''''\n",
    "\n",
    "\n",
    "print(\"\\n\\n-----------------\\n        3a        \\n-----------------\\n \")\n",
    "\n",
    "''' \n",
    "order : [ch, cv, cp, cm, cr, cl]\n",
    "'''\n",
    "flux = 10**4\n",
    "integration_time = 10**(-6)\n",
    "\n",
    "sum = 0\n",
    "for val in beam_of_photons(flux,integration_time):\n",
    "    sum = sum +val\n",
    "print(sum)\n",
    "\n"
   ]
  },
  {
   "cell_type": "markdown",
   "metadata": {},
   "source": [
    "## 4. "
   ]
  },
  {
   "cell_type": "code",
   "execution_count": 4,
   "metadata": {},
   "outputs": [
    {
     "name": "stdout",
     "output_type": "stream",
     "text": [
      "Running the g2 iteration 50 times\n",
      "The mean g2 is: 0.9876879083236697 and the variance is: 0.11167371080429413\n"
     ]
    }
   ],
   "source": [
    "''' \n",
    "running the poisson distribution for a large time window\n",
    "'''\n",
    "\n",
    "''' \n",
    "function to return the second order correlation for a given flux and integration time\n",
    "'''\n",
    "\n",
    "def g_second_order_correlation(flux, integration_time):\n",
    "    beam1 = beam_of_photons(flux, integration_time)\n",
    "    beam2 = beam_of_photons(flux, integration_time)\n",
    "\n",
    "    N1 = 0\n",
    "    N2 = 0\n",
    "    N12 = 0\n",
    "    for n1,n2 in zip(beam1,beam2):\n",
    "        N1 = N1 + n1\n",
    "        N2 = N2 + n2\n",
    "        N12 = N12 + min([n1,n2])\n",
    "\n",
    "    g2 = (N12/(N1*N2))/integration_time\n",
    "\n",
    "    #print(N12)\n",
    "\n",
    "\n",
    "    return g2\n",
    "\n",
    "\n",
    "''' \n",
    "Enter your conditions here\n",
    "'''\n",
    "flux = 10**4\n",
    "integration_time = 10**(-6)\n",
    "run_time = 50 #integer in seconds\n",
    "\n",
    "''' \n",
    "function runs here\n",
    "'''\n",
    "print(\"Running the g2 iteration \"+str(run_time)+\" times\")\n",
    "\n",
    "g2_list = []\n",
    "for i in range(run_time):\n",
    "    g_val = g_second_order_correlation(flux=flux, integration_time=integration_time)\n",
    "    g2_list.append(g_val)\n",
    "\n",
    "mean_g2 = np.mean(g2_list)\n",
    "variance_g2 = np.std(g2_list)\n",
    "\n",
    "print(\"The mean g2 is: \"+str(mean_g2)+\" and the variance is: \"+str(variance_g2))\n"
   ]
  },
  {
   "cell_type": "markdown",
   "metadata": {},
   "source": [
    "#  <font color=ea7e7e>Correlations and the CHSH Bell Inequality </font>"
   ]
  },
  {
   "cell_type": "markdown",
   "metadata": {},
   "source": [
    "## 4."
   ]
  },
  {
   "cell_type": "code",
   "execution_count": 5,
   "metadata": {},
   "outputs": [
    {
     "name": "stdout",
     "output_type": "stream",
     "text": [
      "Singlet state is:\n",
      "Quantum object: dims = [[2, 2], [1, 1]], shape = (4, 1), type = ket\n",
      "Qobj data =\n",
      "[[ 0.70710678]\n",
      " [ 0.        ]\n",
      " [ 0.        ]\n",
      " [-0.70710678]]\n",
      "\n",
      "\n",
      "Triplet state is:\n",
      "Quantum object: dims = [[2, 2], [1, 1]], shape = (4, 1), type = ket\n",
      "Qobj data =\n",
      "[[ 0.70710678]\n",
      " [ 0.        ]\n",
      " [ 0.        ]\n",
      " [-0.70710678]]\n",
      "\n",
      "\n",
      "\n",
      "-----------------------\n",
      "   For Singlet State         \n",
      "-----------------------\n",
      "\n",
      "Exepectaion value of A(pi/4) B(-pi/8) is:\n",
      "0.7071067811865474\n",
      "\n",
      "Exepectaion value of A(0) B(-pi/8) is:\n",
      "0.7071067811865474\n",
      "\n",
      "Exepectaion value of A(pi/4) B(5pi/8) is:\n",
      "0.7071067811865474\n",
      "\n",
      "Exepectaion value of A(0) B(5pi/8) is:\n",
      "-0.7071067811865474\n",
      "\n",
      "Exepectaion value of S for singlet is:\n",
      "2.8284271247461894\n",
      "-----------------------\n",
      "   For Triplet State         \n",
      "-----------------------\n",
      "\n",
      "Exepectaion value of A(pi/4) B(-pi/8) is:\n",
      "-0.7071067811865474\n",
      "\n",
      "Exepectaion value of A(0) B(-pi/8) is:\n",
      "0.7071067811865474\n",
      "\n",
      "Exepectaion value of A(pi/4) B(5pi/8) is:\n",
      "-0.7071067811865474\n",
      "\n",
      "Exepectaion value of A(0) B(5pi/8) is:\n",
      "-0.7071067811865474\n",
      "\n",
      "Exepectaion value of S for triplet state is:\n",
      "0.0\n"
     ]
    }
   ],
   "source": [
    "\n",
    "singlet = (1/np.sqrt(2))*(tensor(basis(2,0),basis(2,0)) - tensor(basis(2,1),basis(2,1)))\n",
    "print(\"Singlet state is:\")\n",
    "print(singlet)\n",
    "triplet = (1/np.sqrt(2))*(tensor(basis(2,0),basis(2,0)) + tensor(basis(2,1),basis(2,1)))\n",
    "print(\"\\n\\nTriplet state is:\")\n",
    "print(singlet)\n",
    "\n",
    "projection_0 = sigmaz()\n",
    "projection_pi_by_4 = sigmax()\n",
    "projection_mpi_by_8 = 1/np.sqrt(2)*(basis(2,0)*basis(2,0).dag() - sigmax() - basis(2,1)*basis(2,1).dag())\n",
    "projection_5pi_by_8 = 1/np.sqrt(2)*(-basis(2,0)*basis(2,0).dag() - sigmax() + basis(2,1)*basis(2,1).dag())\n",
    "\n",
    "\n",
    "S1 = tensor(projection_pi_by_4,projection_mpi_by_8)\n",
    "S2 = tensor(projection_0,projection_mpi_by_8)\n",
    "S3 = tensor(projection_pi_by_4, projection_5pi_by_8)\n",
    "S4 = tensor(projection_0, projection_5pi_by_8)\n",
    "S = S1 + S2 + S3 - S4\n",
    "S_ = S1 - S2 + S3 + S4\n",
    "\n",
    "\n",
    "print(\"\\n\\n\\n-----------------------\\n   For Singlet State         \\n-----------------------\")\n",
    "\n",
    "print(\"\\nExepectaion value of A(pi/4) B(-pi/8) is:\")\n",
    "print(expect(S1, singlet))\n",
    "print(\"\\nExepectaion value of A(0) B(-pi/8) is:\")\n",
    "print(expect(S2, singlet))\n",
    "print(\"\\nExepectaion value of A(pi/4) B(5pi/8) is:\")\n",
    "print(expect(S3, singlet))\n",
    "print(\"\\nExepectaion value of A(0) B(5pi/8) is:\")\n",
    "print(expect(S4, singlet))\n",
    "\n",
    "print(\"\\nExepectaion value of S for singlet is:\")\n",
    "\n",
    "print(expect(S1+S2+S3-S4, singlet))\n",
    "\n",
    "\n",
    "\n",
    "print(\"-----------------------\\n   For Triplet State         \\n-----------------------\")\n",
    "\n",
    "print(\"\\nExepectaion value of A(pi/4) B(-pi/8) is:\")\n",
    "print(expect(S1, triplet))\n",
    "print(\"\\nExepectaion value of A(0) B(-pi/8) is:\")\n",
    "print(expect(S2, triplet))\n",
    "print(\"\\nExepectaion value of A(pi/4) B(5pi/8) is:\")\n",
    "print(expect(S3, triplet))\n",
    "print(\"\\nExepectaion value of A(0) B(5pi/8) is:\")\n",
    "print(expect(S4, triplet))\n",
    "\n",
    "print(\"\\nExepectaion value of S for triplet state is:\")\n",
    "print(expect(S, triplet))\n",
    "\n"
   ]
  },
  {
   "cell_type": "markdown",
   "metadata": {},
   "source": [
    "<font color=c7c5fc>The Bell's measurable for the triplet state should be changed to \n",
    "$S' = S_1 - S_2 + S_3 + S_4$\n",
    "If we do that, the expectation value of $S'$ for a triplet state comes out to be: </font>"
   ]
  },
  {
   "cell_type": "code",
   "execution_count": 6,
   "metadata": {},
   "outputs": [
    {
     "name": "stdout",
     "output_type": "stream",
     "text": [
      "\n",
      "Exepectaion value of S' is:\n",
      "-2.8284271247461894\n"
     ]
    }
   ],
   "source": [
    "print(\"\\nExepectaion value of S' is:\")\n",
    "print(expect(S_, triplet))"
   ]
  }
 ],
 "metadata": {
  "kernelspec": {
   "display_name": "Python 3.9.13 ('base')",
   "language": "python",
   "name": "python3"
  },
  "language_info": {
   "codemirror_mode": {
    "name": "ipython",
    "version": 3
   },
   "file_extension": ".py",
   "mimetype": "text/x-python",
   "name": "python",
   "nbconvert_exporter": "python",
   "pygments_lexer": "ipython3",
   "version": "3.9.13"
  },
  "orig_nbformat": 4,
  "vscode": {
   "interpreter": {
    "hash": "358a77507ec11ddb660ac1d8d3eb0035d960f272c3eb24b4f5810b389e19700a"
   }
  }
 },
 "nbformat": 4,
 "nbformat_minor": 2
}
